{
 "cells": [
  {
   "cell_type": "code",
   "execution_count": 13,
   "id": "2422c3ab-b96b-4c83-b825-1ded8462f441",
   "metadata": {},
   "outputs": [],
   "source": [
    "# import relevant packages\n",
    "\n",
    "import numpy as np\n",
    "import scipy.stats as sps\n",
    "import pandas as pd\n",
    "import matplotlib.pyplot as plt\n",
    "\n",
    "%matplotlib inline"
   ]
  },
  {
   "cell_type": "code",
   "execution_count": 80,
   "id": "64c3c1ad-64d8-4c5f-992b-288da2555b17",
   "metadata": {},
   "outputs": [
    {
     "name": "stdout",
     "output_type": "stream",
     "text": [
      "                 Male Unnamed: 2 Unnamed: 3 Unnamed: 4    Female Unnamed: 6  \\\n",
      "NaN          all_data     Camden    Enfield        K&C  all_data     Camden   \n",
      "quantity           57         18         21         18        57         18   \n",
      "mean             81.2       80.5       80.1       83.0      85.5       86.1   \n",
      "median           81.0       80.4       80.9       83.5      85.5       86.3   \n",
      "min              74.8       76.7       76.1       74.8      78.6       80.3   \n",
      "max              91.9       84.8       83.5       91.9      92.9       90.7   \n",
      "range            17.1        8.1        7.4       17.1      14.3       10.4   \n",
      "LQ               78.4       78.2       78.8       79.9      84.1       85.3   \n",
      "UQ               83.3       82.7       81.7       86.3      87.2       87.9   \n",
      "IQR               4.9        4.6        2.9        6.4       3.1        2.6   \n",
      "lo-tukey         71.0       71.3       74.4       70.2      79.4       81.4   \n",
      "hi-tukey         90.6       89.6       86.2       96.0      91.8       91.9   \n",
      "lo-outliers         0          0          0          0         1          2   \n",
      "hi-outliers         1          0          0          0         1          0   \n",
      "variance         11.1        7.0        4.8       17.6       7.3        8.0   \n",
      "st. dev.          3.3        2.6        2.2        4.2       2.7        2.8   \n",
      "\n",
      "            Unnamed: 7 Unnamed: 8  \n",
      "NaN            Enfield        K&C  \n",
      "quantity            21         18  \n",
      "mean              84.1       86.6  \n",
      "median            84.4       86.4  \n",
      "min               78.6       81.9  \n",
      "max               87.2       92.9  \n",
      "range              8.6       11.0  \n",
      "LQ                82.5       85.3  \n",
      "UQ                85.4       88.0  \n",
      "IQR                2.9        2.7  \n",
      "lo-tukey          78.2       81.3  \n",
      "hi-tukey          89.7       92.0  \n",
      "lo-outliers          0          0  \n",
      "hi-outliers          0          1  \n",
      "variance           4.0        6.4  \n",
      "st. dev.           2.0        2.5  \n"
     ]
    }
   ],
   "source": [
    "# Get the edited life expectancy data:\n",
    "data = pd.read_csv('Life expectancy example.csv' , index_col=0)\n",
    "\n",
    "# Look at the first few rows:\n",
    "print(data)"
   ]
  },
  {
   "cell_type": "code",
   "execution_count": 110,
   "id": "674f311b-68d9-436e-abd4-78f43c8eb47a",
   "metadata": {},
   "outputs": [
    {
     "name": "stdout",
     "output_type": "stream",
     "text": [
      "            Male_all_data Male_Camden Male_Enfield Male_K&C Female_all_data  \\\n",
      "NaN              all_data      Camden      Enfield      K&C        all_data   \n",
      "quantity               57          18           21       18              57   \n",
      "mean                 81.2        80.5         80.1     83.0            85.5   \n",
      "median               81.0        80.4         80.9     83.5            85.5   \n",
      "min                  74.8        76.7         76.1     74.8            78.6   \n",
      "max                  91.9        84.8         83.5     91.9            92.9   \n",
      "range                17.1         8.1          7.4     17.1            14.3   \n",
      "LQ                   78.4        78.2         78.8     79.9            84.1   \n",
      "UQ                   83.3        82.7         81.7     86.3            87.2   \n",
      "IQR                   4.9         4.6          2.9      6.4             3.1   \n",
      "lo-tukey             71.0        71.3         74.4     70.2            79.4   \n",
      "hi-tukey             90.6        89.6         86.2     96.0            91.8   \n",
      "lo-outliers             0           0            0        0               1   \n",
      "hi-outliers             1           0            0        0               1   \n",
      "variance             11.1         7.0          4.8     17.6             7.3   \n",
      "st. dev.              3.3         2.6          2.2      4.2             2.7   \n",
      "\n",
      "            Female_Camden Female_Enfield Female_K&C  \n",
      "NaN                Camden        Enfield        K&C  \n",
      "quantity               18             21         18  \n",
      "mean                 86.1           84.1       86.6  \n",
      "median               86.3           84.4       86.4  \n",
      "min                  80.3           78.6       81.9  \n",
      "max                  90.7           87.2       92.9  \n",
      "range                10.4            8.6       11.0  \n",
      "LQ                   85.3           82.5       85.3  \n",
      "UQ                   87.9           85.4       88.0  \n",
      "IQR                   2.6            2.9        2.7  \n",
      "lo-tukey             81.4           78.2       81.3  \n",
      "hi-tukey             91.9           89.7       92.0  \n",
      "lo-outliers             2              0          0  \n",
      "hi-outliers             0              0          1  \n",
      "variance              8.0            4.0        6.4  \n",
      "st. dev.              2.8            2.0        2.5  \n"
     ]
    }
   ],
   "source": [
    "# Convert dictionary to DataFrame\n",
    "df = pd.DataFrame(data)\n",
    "\n",
    "# Rename columns to simplify access\n",
    "df.columns = ['Male_all_data', 'Male_Camden', 'Male_Enfield', 'Male_K&C', 'Female_all_data', \n",
    "              'Female_Camden', 'Female_Enfield', 'Female_K&C']\n",
    "\n",
    "# Display the DataFrame to confirm\n",
    "print(df)"
   ]
  },
  {
   "cell_type": "code",
   "execution_count": 111,
   "id": "b6105afc-7f03-472a-a1a7-5d8dbee6439b",
   "metadata": {},
   "outputs": [
    {
     "name": "stdout",
     "output_type": "stream",
     "text": [
      "            Male_all_data Male_Camden Male_Enfield Male_K&C Female_all_data  \\\n",
      "quantity               57          18           21       18              57   \n",
      "mean                 81.2        80.5         80.1     83.0            85.5   \n",
      "median               81.0        80.4         80.9     83.5            85.5   \n",
      "min                  74.8        76.7         76.1     74.8            78.6   \n",
      "max                  91.9        84.8         83.5     91.9            92.9   \n",
      "range                17.1         8.1          7.4     17.1            14.3   \n",
      "LQ                   78.4        78.2         78.8     79.9            84.1   \n",
      "UQ                   83.3        82.7         81.7     86.3            87.2   \n",
      "IQR                   4.9         4.6          2.9      6.4             3.1   \n",
      "lo-tukey             71.0        71.3         74.4     70.2            79.4   \n",
      "hi-tukey             90.6        89.6         86.2     96.0            91.8   \n",
      "lo-outliers             0           0            0        0               1   \n",
      "hi-outliers             1           0            0        0               1   \n",
      "variance             11.1         7.0          4.8     17.6             7.3   \n",
      "st. dev.              3.3         2.6          2.2      4.2             2.7   \n",
      "\n",
      "            Female_Camden Female_Enfield Female_K&C  \n",
      "quantity               18             21         18  \n",
      "mean                 86.1           84.1       86.6  \n",
      "median               86.3           84.4       86.4  \n",
      "min                  80.3           78.6       81.9  \n",
      "max                  90.7           87.2       92.9  \n",
      "range                10.4            8.6       11.0  \n",
      "LQ                   85.3           82.5       85.3  \n",
      "UQ                   87.9           85.4       88.0  \n",
      "IQR                   2.6            2.9        2.7  \n",
      "lo-tukey             81.4           78.2       81.3  \n",
      "hi-tukey             91.9           89.7       92.0  \n",
      "lo-outliers             2              0          0  \n",
      "hi-outliers             0              0          1  \n",
      "variance              8.0            4.0        6.4  \n",
      "st. dev.              2.8            2.0        2.5  \n"
     ]
    }
   ],
   "source": [
    "df_cleaned=df.drop(df.index[0])\n",
    "print(df_cleaned)"
   ]
  },
  {
   "cell_type": "code",
   "execution_count": 112,
   "id": "90fd7e19-b635-4593-b451-0cbbf1295b1b",
   "metadata": {},
   "outputs": [
    {
     "name": "stdout",
     "output_type": "stream",
     "text": [
      "Male Data Frame:\n",
      "            Male_all_data Male_Camden Male_Enfield Male_K&C\n",
      "quantity               57          18           21       18\n",
      "mean                 81.2        80.5         80.1     83.0\n",
      "median               81.0        80.4         80.9     83.5\n",
      "min                  74.8        76.7         76.1     74.8\n",
      "max                  91.9        84.8         83.5     91.9\n",
      "range                17.1         8.1          7.4     17.1\n",
      "LQ                   78.4        78.2         78.8     79.9\n",
      "UQ                   83.3        82.7         81.7     86.3\n",
      "IQR                   4.9         4.6          2.9      6.4\n",
      "lo-tukey             71.0        71.3         74.4     70.2\n",
      "hi-tukey             90.6        89.6         86.2     96.0\n",
      "lo-outliers             0           0            0        0\n",
      "hi-outliers             1           0            0        0\n",
      "variance             11.1         7.0          4.8     17.6\n",
      "st. dev.              3.3         2.6          2.2      4.2\n",
      "\n",
      "Female Data Frame:\n",
      "            Female_all_data Female_Camden Female_Enfield Female_K&C\n",
      "quantity                 57            18             21         18\n",
      "mean                   85.5          86.1           84.1       86.6\n",
      "median                 85.5          86.3           84.4       86.4\n",
      "min                    78.6          80.3           78.6       81.9\n",
      "max                    92.9          90.7           87.2       92.9\n",
      "range                  14.3          10.4            8.6       11.0\n",
      "LQ                     84.1          85.3           82.5       85.3\n",
      "UQ                     87.2          87.9           85.4       88.0\n",
      "IQR                     3.1           2.6            2.9        2.7\n",
      "lo-tukey               79.4          81.4           78.2       81.3\n",
      "hi-tukey               91.8          91.9           89.7       92.0\n",
      "lo-outliers               1             2              0          0\n",
      "hi-outliers               1             0              0          1\n",
      "variance                7.3           8.0            4.0        6.4\n",
      "st. dev.                2.7           2.8            2.0        2.5\n"
     ]
    }
   ],
   "source": [
    "# Create the male data frame\n",
    "male_df = df_cleaned.iloc[:, :4]  # Select all rows and the first 4 columns\n",
    "\n",
    "# Create the female data frame\n",
    "female_df = df_cleaned.iloc[:, 4:]  # Select all rows and columns from the 5th column onwards\n",
    "\n",
    "# Display the resulting data frames\n",
    "print(\"Male Data Frame:\")\n",
    "print(male_df)\n",
    "print(\"\\nFemale Data Frame:\")\n",
    "print(female_df)"
   ]
  },
  {
   "cell_type": "code",
   "execution_count": null,
   "id": "2f77a971-b0db-435e-a9a1-66885fc9c05f",
   "metadata": {},
   "outputs": [],
   "source": []
  }
 ],
 "metadata": {
  "kernelspec": {
   "display_name": "Python (base)",
   "language": "python",
   "name": "base"
  },
  "language_info": {
   "codemirror_mode": {
    "name": "ipython",
    "version": 3
   },
   "file_extension": ".py",
   "mimetype": "text/x-python",
   "name": "python",
   "nbconvert_exporter": "python",
   "pygments_lexer": "ipython3",
   "version": "3.11.9"
  }
 },
 "nbformat": 4,
 "nbformat_minor": 5
}
